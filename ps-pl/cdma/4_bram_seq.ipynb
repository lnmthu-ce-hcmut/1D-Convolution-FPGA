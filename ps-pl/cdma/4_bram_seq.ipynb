{
 "cells": [
  {
   "cell_type": "code",
   "execution_count": 1,
   "id": "a0d7d38a",
   "metadata": {},
   "outputs": [
    {
     "name": "stderr",
     "output_type": "stream",
     "text": [
      "/usr/local/share/pynq-venv/lib/python3.8/site-packages/pynq/pl_server/xrt_device.py:59: UserWarning: xbutil failed to run - unable to determine XRT version\n",
      "  warnings.warn(\"xbutil failed to run - unable to determine XRT version\")\n"
     ]
    },
    {
     "data": {
      "application/javascript": [
       "\n",
       "try {\n",
       "require(['notebook/js/codecell'], function(codecell) {\n",
       "  codecell.CodeCell.options_default.highlight_modes[\n",
       "      'magic_text/x-csrc'] = {'reg':[/^%%microblaze/]};\n",
       "  Jupyter.notebook.events.one('kernel_ready.Kernel', function(){\n",
       "      Jupyter.notebook.get_cells().map(function(cell){\n",
       "          if (cell.cell_type == 'code'){ cell.auto_highlight(); } }) ;\n",
       "  });\n",
       "});\n",
       "} catch (e) {};\n"
      ]
     },
     "metadata": {},
     "output_type": "display_data"
    },
    {
     "data": {
      "application/javascript": [
       "\n",
       "try {\n",
       "require(['notebook/js/codecell'], function(codecell) {\n",
       "  codecell.CodeCell.options_default.highlight_modes[\n",
       "      'magic_text/x-csrc'] = {'reg':[/^%%pybind11/]};\n",
       "  Jupyter.notebook.events.one('kernel_ready.Kernel', function(){\n",
       "      Jupyter.notebook.get_cells().map(function(cell){\n",
       "          if (cell.cell_type == 'code'){ cell.auto_highlight(); } }) ;\n",
       "  });\n",
       "});\n",
       "} catch (e) {};\n"
      ]
     },
     "metadata": {},
     "output_type": "display_data"
    }
   ],
   "source": [
    "import numpy as np\n",
    "from pynq import allocate\n",
    "from pynq import MMIO\n",
    "from pynq import Overlay\n",
    "from enum import IntEnum\n",
    "import time\n",
    "\n",
    "overlay = Overlay('./bram_test.bit')"
   ]
  },
  {
   "cell_type": "code",
   "execution_count": 2,
   "id": "2b155eea",
   "metadata": {},
   "outputs": [],
   "source": [
    "cdma = overlay.axi_cdma_0"
   ]
  },
  {
   "cell_type": "code",
   "execution_count": 3,
   "id": "18ba85ed",
   "metadata": {},
   "outputs": [
    {
     "name": "stdout",
     "output_type": "stream",
     "text": [
      "Input:\n",
      "[   0    1    2 ... 8189 8190 8191]\n",
      "\n",
      "==== Test CDMA ====\n",
      "Transferring...\n",
      "Transfered 32768 bytes from 965148672 to 3758096384\n",
      "CDMA Done.\n",
      "Transferring...\n",
      "Transfered 32768 bytes from 3758096384 to 965181440\n",
      "CDMA Done.\n",
      "[   0    1    2 ... 8189 8190 8191]\n",
      "0.0013637542724609375 seconds\n",
      "\n"
     ]
    }
   ],
   "source": [
    "input_buffer0 = allocate(shape=(2048*4,), dtype=np.uint32)\n",
    "output_buffer0 = allocate(shape=(2048*4,), dtype=np.uint32)\n",
    "\n",
    "for i in range(2048*4):\n",
    "   input_buffer0[i] = i\n",
    "\n",
    "print(\"Input:\")\n",
    "print(input_buffer0)\n",
    "\n",
    "print()\n",
    "\n",
    "def getbit(value, order):\n",
    "    orderVal = 2**order\n",
    "    tmpbin = value & orderVal\n",
    "    if (tmpbin):\n",
    "        return 1\n",
    "    else:\n",
    "        return 0\n",
    "\n",
    "def changebit(value, order, bit):\n",
    "    if (bit == 1):\n",
    "        return value | (1 << order)\n",
    "    else:\n",
    "        return value & ~(1 << order)\n",
    "\n",
    "class Cdma(IntEnum):\n",
    "    CDMACR = 0x0\n",
    "    CDMASR = 0x4\n",
    "    SA = 0x18\n",
    "    DA = 0x20\n",
    "    BTT = 0x28\n",
    "\n",
    "def transfer(cdma, src, dst, size):\n",
    "    # Step 1\n",
    "    cdmasr = cdma.read(Cdma.CDMASR)\n",
    "    cdmasrIdle = getbit(cdmasr, 1)\n",
    "    if (cdmasrIdle != 1):\n",
    "        print(\"CDMA is busy..\")\n",
    "        return\n",
    "\n",
    "    # Step 2\n",
    "    cdmacr = cdma.read(Cdma.CDMACR)\n",
    "    cdmacr = changebit(cdmacr, 12, 1) # set IOC_IrqEn\n",
    "    cdmacr = changebit(cdmacr, 14, 1) # set ERR_IrqEn\n",
    "    cdma.write(Cdma.CDMACR, cdmacr)\n",
    "\n",
    "    # Step 3\n",
    "    cdma.write(Cdma.SA, src)\n",
    "\n",
    "    # Step 4\n",
    "    cdma.write(Cdma.DA, dst)\n",
    "\n",
    "    # Step 5\n",
    "    cdma.write(Cdma.BTT, size)\n",
    "\n",
    "    # Step 6\n",
    "    print(\"Transferring...\")\n",
    "    cdma.read(Cdma.CDMASR)\n",
    "    cdmasrIdle = getbit(cdmasr, 1)\n",
    "    while (cdmasrIdle != 1):\n",
    "        print(\".\", end=\"\")\n",
    "        cdma.read(Cdma.CDMASR)\n",
    "        cdmasrIdle = getbit(cdmasr, 1)\n",
    "\n",
    "    # Step 7-8\n",
    "    cdmasr = cdma.read(Cdma.CDMASR)\n",
    "    cdmasr = changebit(cdmasr, 12, 1) # clear IOC_Irq\n",
    "    cdma.write(Cdma.CDMASR, cdmasr)\n",
    "\n",
    "    print(\"Transfered \" + str(size) + \" bytes from \" + str(src) + \" to \" + str(dst))\n",
    "    print(\"CDMA Done.\")\n",
    "\n",
    "def reset(cdma):\n",
    "    cdmacr = cdma.read(Cdma.CDMACR)\n",
    "    print(type(cdmacr))\n",
    "    print(cdmacr)\n",
    "    cdmacr = changebit(cdmacr, 2, 1)\n",
    "    print(cdmacr)\n",
    "    cdma.write(Cdma.CDMACR, cdmacr)\n",
    "\n",
    "print(\"==== Test CDMA ====\")\n",
    "\n",
    "start_time = time.time()\n",
    "transfer(cdma, input_buffer0.physical_address, 0xE000_0000, 2048*4*4)\n",
    "transfer(cdma, 0xE000_0000,output_buffer0.physical_address, 2048*4*4)\n",
    "\n",
    "end_time = time.time()\n",
    "print(output_buffer0)\n",
    "print(\"%s seconds\" % (end_time - start_time))\n",
    "print()\n",
    "\n",
    "\n"
   ]
  },
  {
   "cell_type": "code",
   "execution_count": null,
   "id": "a653ea58",
   "metadata": {},
   "outputs": [],
   "source": []
  }
 ],
 "metadata": {
  "kernelspec": {
   "display_name": "Python 3",
   "language": "python",
   "name": "python3"
  },
  "language_info": {
   "codemirror_mode": {
    "name": "ipython",
    "version": 3
   },
   "file_extension": ".py",
   "mimetype": "text/x-python",
   "name": "python",
   "nbconvert_exporter": "python",
   "pygments_lexer": "ipython3",
   "version": "3.8.10"
  }
 },
 "nbformat": 4,
 "nbformat_minor": 5
}
